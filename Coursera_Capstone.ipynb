{
 "cells": [
  {
   "cell_type": "markdown",
   "metadata": {},
   "source": [
    "# Coursera_Capstone\n",
    "This motebook will host the project capstone for IBM Data Science Professional Certificate Specialization on Coursera.\n",
    "\n",
    "<ol>\n",
    "Links: <br>\n",
    "<a href='https://www.coursera.org/professional-certificates/ibm-data-science\n",
    "'>View specialization</a><br>\n",
    "\n",
    "<a href='https://www.coursera.org/learn/applied-data-science-capstone'>View course</a>\n",
    "</ol>"
   ]
  },
  {
   "cell_type": "code",
   "execution_count": null,
   "metadata": {},
   "outputs": [],
   "source": []
  }
 ],
 "metadata": {
  "kernelspec": {
   "display_name": "Python 3",
   "language": "python",
   "name": "python3"
  },
  "language_info": {
   "codemirror_mode": {
    "name": "ipython",
    "version": 3
   },
   "file_extension": ".py",
   "mimetype": "text/x-python",
   "name": "python",
   "nbconvert_exporter": "python",
   "pygments_lexer": "ipython3",
   "version": "3.8.3"
  }
 },
 "nbformat": 4,
 "nbformat_minor": 4
}
