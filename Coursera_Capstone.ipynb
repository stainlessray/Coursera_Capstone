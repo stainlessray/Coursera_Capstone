{
 "cells": [
  {
   "cell_type": "markdown",
   "metadata": {},
   "source": [
    "# Coursera_Capstone\n",
    "This notebook will host the project capstone for IBM Data Science Professional Certificate Specialization on Coursera.\n",
    "\n",
    "<ol>\n",
    "   Links:><br>\n",
    "<a href='https://www.coursera.org/professional-certificates/ibm-data-science\n",
    "'>View specialization </a>\"IBM Data Science Professional Certificate\"<br>\n",
    "<a href='https://www.coursera.org/learn/applied-data-science-capstone'>View course </a>\"Applied Data Science Capstone\"<br>\n",
    "<a href='https://github.com/stainlessray/Coursera_Capstone'>This notebook </a>on github<br>\n",
    "\n",
    "    \n",
    "</ol>"
   ]
  },
  {
   "cell_type": "markdown",
   "metadata": {},
   "source": [
    "# Predicting Severe Traffic Disruption For Use in Preventing Traffic Disruption\n",
    "\n",
    "\n",
    "## Introduction\n",
    "### “Can we predict the potential for  severity of accidents, and use the information to aid in solving the problem of severe accidents?”\n",
    "\n",
    "<p>\n",
    "    The state of Delaware faces numerous unique demographic challenges with regard to public safety on state, and interstate roadways. Most of those challenges fall under the mandate of the Delaware Division of Transportation, or DELDOT. DELDOT provides numerous resources that seek to inform Delaware drivers on road conditions, construction projects, hazardous situations, and promote overall safety on the roads and highways of the first state. However, they are not a target or sponsor of the study in any way. The study is not affiliated with any government or corporate entity. The target of the study is the public at large. Helping local drivers remain informed, and become more knowledgeable in real-time has the potential to save lives, and money for every user of vital public roadways. <br>\n",
    "    \n",
    " The machine learning component will attempt to determine the viability of predicting which categories of “severity” are most likely at any given time using live data, and present possible sources of live data to accomplish that goal. <br>\n",
    "\n",
    "</p>"
   ]
  },
  {
   "cell_type": "markdown",
   "metadata": {},
   "source": [
    "## About the Data\n",
    "<p>\n",
    "     The dataset used contains approximately 3.5 million accident records in the contiguous 49 US States. All listings for the state of Delaware were isolated for use in modeling and acquiring insight specific to the State. The dataset incorporates a diverse featureset, and aggregates several individual features from the data into an accident severity scale of 1-4 (Least to most severe). The isolated dataset contained 5,739 accident records. It contains 49 Feature columns including 2 sets of geographic coordinates (start/stop), addresses,road names, zip codes, traffic results as described in official reports, and 27 different weather conditions. There is good reason for confidence in the veracity of the dataset for the use we intend to make.<br>\n",
    "\n",
    " Exploring the data bubbled up some surprises very early on. Of course we can help if we know the road is slippery right? Wrong. At least not in this state. The overwhelming majority of accidents of all severities occur during clear skies. Snow and ice don’t even make the top ten list. Who knew?<br>\n",
    "</p>\n"
   ]
  },
  {
   "cell_type": "code",
   "execution_count": 1,
   "metadata": {},
   "outputs": [],
   "source": [
    "import pandas as pd\n",
    "import numpy as np\n"
   ]
  },
  {
   "cell_type": "code",
   "execution_count": 2,
   "metadata": {},
   "outputs": [
    {
     "name": "stdout",
     "output_type": "stream",
     "text": [
      "Hello Capstone Project Course!\n"
     ]
    }
   ],
   "source": [
    "print('Hello Capstone Project Course!')"
   ]
  },
  {
   "cell_type": "code",
   "execution_count": null,
   "metadata": {},
   "outputs": [],
   "source": []
  }
 ],
 "metadata": {
  "kernelspec": {
   "display_name": "Python 3",
   "language": "python",
   "name": "python3"
  },
  "language_info": {
   "codemirror_mode": {
    "name": "ipython",
    "version": 3
   },
   "file_extension": ".py",
   "mimetype": "text/x-python",
   "name": "python",
   "nbconvert_exporter": "python",
   "pygments_lexer": "ipython3",
   "version": "3.8.3"
  }
 },
 "nbformat": 4,
 "nbformat_minor": 4
}
